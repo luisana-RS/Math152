{
  "nbformat": 4,
  "nbformat_minor": 0,
  "metadata": {
    "colab": {
      "name": "Copy of P4M Notebook 5.ipynb",
      "provenance": [],
      "collapsed_sections": [
        "tmXRsSLiDw2i",
        "HJJWMj_8VdXg",
        "qRLhmGVkXd8K"
      ],
      "include_colab_link": true
    },
    "kernelspec": {
      "name": "python3",
      "display_name": "Python 3"
    }
  },
  "cells": [
    {
      "cell_type": "markdown",
      "metadata": {
        "id": "view-in-github",
        "colab_type": "text"
      },
      "source": [
        "<a href=\"https://colab.research.google.com/github/luisana-RS/Math152/blob/main/P4M_Notebook_5.ipynb\" target=\"_parent\"><img src=\"https://colab.research.google.com/assets/colab-badge.svg\" alt=\"Open In Colab\"/></a>"
      ]
    },
    {
      "cell_type": "markdown",
      "metadata": {
        "id": "3Vh71OubDeRq"
      },
      "source": [
        "# Part 5:  Putting it together...\n",
        "\n",
        "To wrap things up, we are going to bring together the techniques we have seen, and attempt a few challenges.\n",
        "\n",
        "Please submit this notebook by 5pm (California time) on Wednesday, March 17th.  Your submission should include answers to all three questions from the first (Repetition and benchmarking) section, and **two** of the challenging problems."
      ]
    },
    {
      "cell_type": "markdown",
      "metadata": {
        "id": "tmXRsSLiDw2i"
      },
      "source": [
        "## Repetition and benchmarking\n",
        "\n",
        "Computers are very good at repetition.  As your programming skills improve, you can more easily coax your computer into performing more repetitions.  We have seen at least three ways of performing repetition:  with loops (e.g, for and while loops), with lists (especially slicing and comprehension), and with numpy arrays (especially vectorized functions).  \n",
        "\n",
        "It is good to see this, in a simple example, to reflect on what you've learned this quarter.  Our simple example will be producing a list of squares $n^2$ for $n$ in a range of numbers.\n",
        "\n",
        "The first things we learned were how to use Python as a calculator, printing \"answers\" to the screen, and using a \"for loop\" to repeat things.  Here is a bit of code in that spirit."
      ]
    },
    {
      "cell_type": "code",
      "metadata": {
        "id": "1_Gk52ZaDd1M",
        "outputId": "b4824327-3306-44f6-cc22-52edc7b218d0",
        "colab": {
          "base_uri": "https://localhost:8080/"
        }
      },
      "source": [
        "for n in range(10):\n",
        "  print(n*n)"
      ],
      "execution_count": null,
      "outputs": [
        {
          "output_type": "stream",
          "name": "stdout",
          "text": [
            "0\n",
            "1\n",
            "4\n",
            "9\n",
            "16\n",
            "25\n",
            "36\n",
            "49\n",
            "64\n",
            "81\n"
          ]
        }
      ]
    },
    {
      "cell_type": "markdown",
      "metadata": {
        "id": "CI7QBmfi8jn1"
      },
      "source": [
        "Then we learned about lists.  Here are two ways to make a list of the squares, from $0^2$ up to $9^2$.  We print the list at the end of each code block."
      ]
    },
    {
      "cell_type": "code",
      "metadata": {
        "id": "_pSgH2YtEoDT",
        "outputId": "712e9c15-26e2-4b49-bada-4fbe31630165",
        "colab": {
          "base_uri": "https://localhost:8080/"
        }
      },
      "source": [
        "L = []\n",
        "for n in range(10):\n",
        "  L.append(n*n)\n",
        "print(L)"
      ],
      "execution_count": null,
      "outputs": [
        {
          "output_type": "stream",
          "name": "stdout",
          "text": [
            "[0, 1, 4, 9, 16, 25, 36, 49, 64, 81]\n"
          ]
        }
      ]
    },
    {
      "cell_type": "code",
      "metadata": {
        "id": "7arqtxfWESCf",
        "outputId": "d2167e0f-9f27-46c1-ccf5-aa1ab340b4d8",
        "colab": {
          "base_uri": "https://localhost:8080/"
        }
      },
      "source": [
        "L = [0]*10\n",
        "for n in range(10):\n",
        "  L[n] = n*n\n",
        "print(L)"
      ],
      "execution_count": null,
      "outputs": [
        {
          "output_type": "stream",
          "name": "stdout",
          "text": [
            "[0, 1, 4, 9, 16, 25, 36, 49, 64, 81]\n"
          ]
        }
      ]
    },
    {
      "cell_type": "markdown",
      "metadata": {
        "id": "BG8Z6La18uv4"
      },
      "source": [
        "Hopefully you learned to give your lists better names, like `square_list`.  A very slick Pythonic way of producing a list is with \"list comprehension\".  Such an approach is in the code below."
      ]
    },
    {
      "cell_type": "code",
      "metadata": {
        "id": "uTel6wOOEZrm",
        "outputId": "5709f07c-182a-427b-8789-920e370250a8",
        "colab": {
          "base_uri": "https://localhost:8080/"
        }
      },
      "source": [
        "square_list = [n*n for n in range(10)]\n",
        "print(square_list)"
      ],
      "execution_count": null,
      "outputs": [
        {
          "output_type": "stream",
          "name": "stdout",
          "text": [
            "[0, 1, 4, 9, 16, 25, 36, 49, 64, 81]\n"
          ]
        }
      ]
    },
    {
      "cell_type": "markdown",
      "metadata": {
        "id": "EDUFarMO836b"
      },
      "source": [
        "Finally, we learned about the numpy package, which pumps arrays through the processor very quickly.  A numpy approach is below."
      ]
    },
    {
      "cell_type": "code",
      "metadata": {
        "id": "KWyPzv53EfRW"
      },
      "source": [
        "import numpy as np # First we have to load the package."
      ],
      "execution_count": null,
      "outputs": []
    },
    {
      "cell_type": "code",
      "metadata": {
        "id": "sCWmWLfWEgqV",
        "outputId": "0fdd1f14-d2f8-499a-cd7b-20b5c96a5a81",
        "colab": {
          "base_uri": "https://localhost:8080/"
        }
      },
      "source": [
        "A = np.arange(10)\n",
        "print(A*A)"
      ],
      "execution_count": null,
      "outputs": [
        {
          "output_type": "stream",
          "name": "stdout",
          "text": [
            "[ 0  1  4  9 16 25 36 49 64 81]\n"
          ]
        }
      ]
    },
    {
      "cell_type": "markdown",
      "metadata": {
        "id": "WEKhWP4oE1GJ"
      },
      "source": [
        "Let's consider the question:  what is the fastest way to produce a list (or array) of squares?  To answer it, we will wrap things in different functions, and carry out some time analysis.  \n",
        "\n",
        "Notice that the functions are as identical as possible.  The method of creating a list/array is the different in each function.  But all the functions take a single input `N` and return a list or array with the squares of 0,...,N-1.  Note that there are **no print statements**!  Printing takes time, and we don't care about how much time it takes to *print* a list on your screen.  Also, if we run %timeit, then a print statement will fill your screen with tens of thousands of printed messages!"
      ]
    },
    {
      "cell_type": "code",
      "metadata": {
        "id": "8fDM7N4UEkj1"
      },
      "source": [
        "def make_sq_1(N):\n",
        "  L = []\n",
        "  for n in range(N):\n",
        "    L.append(n*n)\n",
        "  return L"
      ],
      "execution_count": null,
      "outputs": []
    },
    {
      "cell_type": "code",
      "metadata": {
        "id": "qEZsZmViFJAE"
      },
      "source": [
        "def make_sq_2(N):\n",
        "  L = [0] * N\n",
        "  for n in range(N):\n",
        "    L[n] = n*n\n",
        "  return L"
      ],
      "execution_count": null,
      "outputs": []
    },
    {
      "cell_type": "code",
      "metadata": {
        "id": "NhGyT-BYFOpM"
      },
      "source": [
        "def make_sq_3(N):\n",
        "  return [n*n for n in range(N)]"
      ],
      "execution_count": null,
      "outputs": []
    },
    {
      "cell_type": "code",
      "metadata": {
        "id": "Api8iz1eFRlN"
      },
      "source": [
        "def make_sq_4(N):\n",
        "  A = np.arange(N)\n",
        "  return A*A"
      ],
      "execution_count": null,
      "outputs": []
    },
    {
      "cell_type": "code",
      "metadata": {
        "id": "lZGA3AmEFVs0",
        "outputId": "2f722974-c19b-4ced-d29e-ff362ae0bae2",
        "colab": {
          "base_uri": "https://localhost:8080/"
        }
      },
      "source": [
        "%timeit make_sq_1(1000)"
      ],
      "execution_count": null,
      "outputs": [
        {
          "output_type": "stream",
          "name": "stdout",
          "text": [
            "10000 loops, best of 5: 119 µs per loop\n"
          ]
        }
      ]
    },
    {
      "cell_type": "code",
      "metadata": {
        "id": "FVUJxnmfFYSU",
        "outputId": "1f5bef26-3aa6-411c-a097-78fb7cd5da02",
        "colab": {
          "base_uri": "https://localhost:8080/"
        }
      },
      "source": [
        "%timeit make_sq_2(1000)"
      ],
      "execution_count": null,
      "outputs": [
        {
          "output_type": "stream",
          "name": "stdout",
          "text": [
            "10000 loops, best of 5: 92.9 µs per loop\n"
          ]
        }
      ]
    },
    {
      "cell_type": "code",
      "metadata": {
        "id": "Zt1l8hOsFZxs",
        "outputId": "8ec9fb94-7bf8-49e0-e8b3-df085782ad49",
        "colab": {
          "base_uri": "https://localhost:8080/"
        }
      },
      "source": [
        "%timeit make_sq_3(1000)"
      ],
      "execution_count": null,
      "outputs": [
        {
          "output_type": "stream",
          "name": "stdout",
          "text": [
            "10000 loops, best of 5: 76.4 µs per loop\n"
          ]
        }
      ]
    },
    {
      "cell_type": "code",
      "metadata": {
        "id": "pSVmRwAdFb5s",
        "outputId": "11ffd523-e677-4b3c-bfae-1ec176b0aacb",
        "colab": {
          "base_uri": "https://localhost:8080/"
        }
      },
      "source": [
        "%timeit make_sq_4(1000)"
      ],
      "execution_count": null,
      "outputs": [
        {
          "output_type": "stream",
          "name": "stdout",
          "text": [
            "The slowest run took 70.06 times longer than the fastest. This could mean that an intermediate result is being cached.\n",
            "100000 loops, best of 5: 2.91 µs per loop\n"
          ]
        }
      ]
    },
    {
      "cell_type": "code",
      "source": [
        "def make_sq_5(N):\n",
        "  L = list(range(N))\n",
        "  for n in range(N):\n",
        "    L[n] = L[n] * n\n",
        "  return L"
      ],
      "metadata": {
        "id": "AGGnVJ3w3XZS"
      },
      "execution_count": null,
      "outputs": []
    },
    {
      "cell_type": "code",
      "source": [
        "def make_sq_6(N):\n",
        "  L = [0]*N\n",
        "  for n in range(N):\n",
        "    L[n] = n**2\n",
        "  return L"
      ],
      "metadata": {
        "id": "4Rgd-q7o4Iog"
      },
      "execution_count": null,
      "outputs": []
    },
    {
      "cell_type": "code",
      "source": [
        "make_sq_5(10)"
      ],
      "metadata": {
        "id": "oEn28W2c3xPE",
        "outputId": "48357ad9-4ab5-49ac-8b5a-7cdb9efd8ae1",
        "colab": {
          "base_uri": "https://localhost:8080/"
        }
      },
      "execution_count": null,
      "outputs": [
        {
          "output_type": "execute_result",
          "data": {
            "text/plain": [
              "[0, 1, 4, 9, 16, 25, 36, 49, 64, 81]"
            ]
          },
          "metadata": {},
          "execution_count": 26
        }
      ]
    },
    {
      "cell_type": "code",
      "source": [
        "make_sq_6(10)"
      ],
      "metadata": {
        "id": "k3EZVek84Qzv",
        "outputId": "c056ade2-f842-466b-b3ca-6b17889c9fe8",
        "colab": {
          "base_uri": "https://localhost:8080/"
        }
      },
      "execution_count": null,
      "outputs": [
        {
          "output_type": "execute_result",
          "data": {
            "text/plain": [
              "[0, 1, 4, 9, 16, 25, 36, 49, 64, 81]"
            ]
          },
          "metadata": {},
          "execution_count": 29
        }
      ]
    },
    {
      "cell_type": "code",
      "source": [
        "%timeit make_sq_5(1000)"
      ],
      "metadata": {
        "id": "0aCfKYjK3Xth",
        "outputId": "240678a6-1209-4267-ff43-46ae201b9ee2",
        "colab": {
          "base_uri": "https://localhost:8080/"
        }
      },
      "execution_count": null,
      "outputs": [
        {
          "output_type": "stream",
          "name": "stdout",
          "text": [
            "10000 loops, best of 5: 130 µs per loop\n"
          ]
        }
      ]
    },
    {
      "cell_type": "code",
      "source": [
        "%timeit make_sq_6(1000)"
      ],
      "metadata": {
        "id": "nIXR2HO94Nuy",
        "outputId": "743258b1-417f-441f-8012-820d61bcb5ac",
        "colab": {
          "base_uri": "https://localhost:8080/"
        }
      },
      "execution_count": null,
      "outputs": [
        {
          "output_type": "stream",
          "name": "stdout",
          "text": [
            "1000 loops, best of 5: 396 µs per loop\n"
          ]
        }
      ]
    },
    {
      "cell_type": "markdown",
      "metadata": {
        "id": "wtjJCpIvF965"
      },
      "source": [
        "These benchmarks are useful, but let's do a graphical analysis.  This is the last thing we studied."
      ]
    },
    {
      "cell_type": "code",
      "metadata": {
        "id": "CNgnxRhFGIz9"
      },
      "source": [
        "import matplotlib.pyplot as plt\n",
        "import seaborn as sns # In case we want some modern stylings.\n",
        "import time as time"
      ],
      "execution_count": null,
      "outputs": []
    },
    {
      "cell_type": "markdown",
      "metadata": {
        "id": "_nCiB6uSJT2C"
      },
      "source": [
        "Now we are going to create a graph to benchmark the performance of these three functions.  This will use a few new programming techniques."
      ]
    },
    {
      "cell_type": "code",
      "metadata": {
        "id": "3Qbzo01tFdi8",
        "outputId": "ce557e5a-6f55-4d1f-fe68-b27a19ff0508",
        "colab": {
          "base_uri": "https://localhost:8080/",
          "height": 373
        }
      },
      "source": [
        "fig,ax = plt.subplots(1,1,figsize=(8,5)) # Initialize a plot.\n",
        "N_array = np.array([2**n for n in range(1,21)]) # We'll try N in the array [2,4,8,..,~1 million]\n",
        "for method in [make_sq_1, make_sq_2, make_sq_3, make_sq_4, make_sq_5, make_sq_6]: # A list of functions, oh my!\n",
        "  time_array = np.zeros(len(N_array)) # Initialize an array of zeros\n",
        "  for j,N in enumerate(N_array):  # See notes afterwards about the enumerate command.\n",
        "    time_tot = 0\n",
        "    for reps in range(10): # Average of 10 repetitions.\n",
        "      start_time = time.time()\n",
        "      method(N)\n",
        "      end_time = time.time()\n",
        "      time_tot += end_time - start_time\n",
        "    time_ave = time_tot / 10\n",
        "    time_array[j] = time_ave\n",
        "  plt.plot(N_array, time_array, label='Time using function '+method.__name__)\n",
        "plt.legend()\n",
        "plt.xscale('log')\n",
        "plt.yscale('log')\n",
        "plt.suptitle('Time to create a list of squares from 1 to N')\n",
        "plt.xlabel('Length of list (N)')\n",
        "plt.ylabel('Time (seconds)')\n",
        "plt.show()"
      ],
      "execution_count": null,
      "outputs": [
        {
          "output_type": "display_data",
          "data": {
            "text/plain": [
              "<Figure size 576x360 with 1 Axes>"
            ],
            "image/png": "[encoded data removed]"
          },
          "metadata": {
            "needs_background": "light"
          }
        }
      ]
    },
    {
      "cell_type": "markdown",
      "metadata": {
        "id": "eWyplW1_Jfak"
      },
      "source": [
        "Let's do a line-by-line analysis.\n",
        "\n",
        "1.  `fig,ax = plt.subplots(1,1,figsize=(8,5))`\n",
        "\n",
        "2.  `N_array = np.array([2**n for n in range(1,21)])`\n",
        "\n",
        "3.  `for method in [make_sq_1, make_sq_2, make_sq_3, make_sq_4]:`\n",
        "\n",
        "4.  `  time_array = np.zeros(len(N_array)) # Initialize an array of zeros`\n",
        "\n",
        "5.  `  for j,N in enumerate(N_array):`\n",
        "\n",
        "6.  `    time_tot = 0`\n",
        "    `for reps in range(10):`\n",
        "      `start_time = time.time()`\n",
        "      `method(N)`\n",
        "      `end_time = time.time()`\n",
        "      `time_tot += end_time - start_time`\n",
        "    `time_ave = time_tot / 10`\n",
        "\n",
        "    `time_array[j] = time_ave`\n",
        "7.    `plt.plot(N_array, time_array, label='Time using function '+method.__name__)`\n",
        "\n",
        "8.  `plt.legend()`\n",
        "\n",
        "9.  `plt.xscale('log')`\n",
        "10. `plt.yscale('log')`"
      ]
    },
    {
      "cell_type": "markdown",
      "metadata": {
        "id": "0Ucwm_uHKL1w"
      },
      "source": [
        "Line 1 initializes a plot, with figure size 8 inches by 5 inches.  The \"1,1\" means that the plot has no subplots, or more precisely, it is a 1 by 1 grid of plots.  (Only one plot).\n",
        "\n",
        "In line 2, we use a list comprehension to make a list [2,4,8,16,..., 2^20].  Note that 2^20 is about one million.  These are the N's that we're going to work with.\n",
        "\n",
        "Line 3 might be surprising and interesting.  The variable `method` is iterated through an array of four *functions*!  Yes, we can have a list of functions!  And then we can use those functions!  Functions are Python objects like any other, and they can be treated as such.\n",
        "\n",
        "Lines 4-6 create an array of times.  Instead of using the %timeit magic, we store our times in an array, and we carry out a timing experiment from scratch.  Line 4 just initializes a numpy array of zeros to fill later.\n",
        "\n",
        "Line 5 has a new command `enumerate` in the loop.  This makes `N` iterate through our `N_array`, and meanwhile `j` will simply \"count up\".  It's equivalent to setting `j=0` before the loop, and putting a `j = j + 1` within the loop to count.\n",
        "\n",
        "Line 6 carries out the timing experiment.  It runs a function (`method`) to create a list of squares up to `N`.  It does this 10 times, checking the time before and after each time.  Then it computes the average amount of time elapsed (among the 10 repetitions) and records this in the `time_array`.\n",
        "\n",
        "Line 7 plots `N` on the x-axis and time (`time_array`) on the y-axis with a line plot.  It assigns this plot a label, which is the name of the method.  To find the name of the function `method`, you can use `method.__name__`.  That's a bit fancier Python.\n",
        "\n",
        "Finally, Line 8 produces the legend from the labels.  \n",
        "\n",
        "Lines 9 and 10 make the x-axis and y-axis log-scaled, which is helpful since the variable `N` is increasing exponentially, and some times are as short as microseconds while others are closer to milliseconds or seconds.\n",
        "\n",
        "The rest is styling."
      ]
    },
    {
      "cell_type": "markdown",
      "metadata": {
        "id": "6anmwPIoLwdu"
      },
      "source": [
        "## Exercises\n",
        "\n",
        "1.  Interpret the plot above.  Which method is fastest for long lists?  Which method is fastest for short lists?  At what size `N` should you switch from one method to the other?\n",
        "\n",
        "2.  Add another method to the plot, by defining your own function `make_sq_5` that mirros the basic structure of the other `make_sq` functions.  Note that your function must create the list in a different way, but it should still take the same parameter `N` and return a list or numpy array.  Create the plot with your function added to the other four, and compare the performance of your method to the others.\n",
        "\n",
        "3.  Create a function with `def inflate(S):` which takes as input a string `S` and returns a string in which the 1st letter of `S` appears once, and the second letter appears twice, the third letter appears three times, etc.  For example, `inflate('Hello')` should return the string `'Heelllllllooooo'`.  You must use a loop of the form `for j,letter in enumerate(S):`, and *no other loops*!"
      ]
    },
    {
      "cell_type": "markdown",
      "metadata": {
        "id": "5cc5rYeH9rcr"
      },
      "source": [
        "1. The fastest method for long lists is make_sq_4, i.e. the numpy method. The fastest method for short lists is make_sq_3, i.e. the list comprehension method. You should switch from the 3rd to the 4th method when N is around  10**(2.1).\n",
        "\n",
        "2. I made two new attempts: make_sq_5 & make_sq_6. make_sq_6 was the slowest except at the very beginning when it is lower than make_sq_4. make_sq_5 was the second fastest at the beginning then aligned with make_sq_1 as second slowest towards the end (after make_sq_6).\n"
      ]
    },
    {
      "cell_type": "code",
      "source": [
        "#3.\n",
        "def inflate(S):\n",
        "  if type(S) != str:\n",
        "    raise TypeError\n",
        "  s = \"\"\n",
        "  for j, letter in enumerate(S):\n",
        "    j = j+1 #since j starts as 0\n",
        "    s += (letter*j)\n",
        "  return s \n"
      ],
      "metadata": {
        "id": "58Uz34pZDX2x"
      },
      "execution_count": null,
      "outputs": []
    },
    {
      "cell_type": "code",
      "source": [
        "S = \"it works!\" \n",
        "inflate(S)\n"
      ],
      "metadata": {
        "colab": {
          "base_uri": "https://localhost:8080/",
          "height": 35
        },
        "id": "ZeFbgBqDFqRO",
        "outputId": "75ed1614-202f-4125-8c05-ee30e95a16cd"
      },
      "execution_count": null,
      "outputs": [
        {
          "output_type": "execute_result",
          "data": {
            "text/plain": [
              "'itt   wwwwooooorrrrrrkkkkkkkssssssss!!!!!!!!!'"
            ],
            "application/vnd.google.colaboratory.intrinsic+json": {
              "type": "string"
            }
          },
          "metadata": {},
          "execution_count": 15
        }
      ]
    },
    {
      "cell_type": "markdown",
      "metadata": {
        "id": "F3CDgf54dWoL"
      },
      "source": [
        "# Final challenges!\n",
        "\n",
        "Please turn in your notebooks with your attempts on **two** of the challenges below.  **Only two** will be graded."
      ]
    },
    {
      "cell_type": "markdown",
      "metadata": {
        "id": "kYWSMHMsY853"
      },
      "source": [
        "# Challenge 3\n",
        "\n",
        "The following result was found by Euler, but I've changed his numbers to $A$ and $B$ to make your life hard.\n",
        "\n",
        "Theorem:  A prime number $p$ can be expressed in the form $x^2 + 3 y^2$ if and only if $p$ is congruent to $A$ modulo $B$ (i.e., `p % B == A`).  \n",
        "\n",
        "Use experimental techniques to determine $A$ and $B$.  Now try the same for $3$ replaced by $4,5,6,7,8,9$. "
      ]
    },
    {
      "cell_type": "markdown",
      "source": [
        "## Solution"
      ],
      "metadata": {
        "id": "dyF-YfyPnY6x"
      }
    },
    {
      "cell_type": "markdown",
      "source": [
        "### Set Up code\n"
      ],
      "metadata": {
        "id": "m4ncDqitlsgk"
      }
    },
    {
      "cell_type": "code",
      "source": [
        "from math import sqrt\n",
        "def isprime_list(n):\n",
        "    ''' \n",
        "    Return a list of length n+1\n",
        "    with Trues at prime indices and Falses at composite indices.\n",
        "    '''\n",
        "    flags = [True] * (n+1)  # A list [True, True, True,...] to start.\n",
        "    flags[0] = False  # Zero is not prime.  So its flag is set to False.\n",
        "    flags[1] = False  # One is not prime.  So its flag is set to False.\n",
        "    flags[4::2] = [False] * ((n-2)//2)\n",
        "    p = 3\n",
        "    while p <= sqrt(n):  # We only need to sieve by p is p <= sqrt(n).\n",
        "        if flags[p]:  # We sieve the multiples of p if flags[p]=True.\n",
        "            flags[p*p::2*p] = [False] * ((n-p*p-1)//(2*p)+1) # Sieves out multiples of p, starting at p*p.\n",
        "        p = p + 2 # Try the next value of p.\n",
        "        \n",
        "    return flags\n",
        "    \n",
        "def where(L):\n",
        "    return [n for n in range(len(L)) if L[n]]\n",
        "    "
      ],
      "metadata": {
        "id": "-EWf6N_VEfMD"
      },
      "execution_count": 40,
      "outputs": []
    },
    {
      "cell_type": "code",
      "source": [
        "\n",
        "def prime_form(N, c):\n",
        "  p = where(isprime_list(N))\n",
        "  a = []\n",
        "  i = round(sqrt(N)+0.5) #making sure to always round up since this number wont actually be counted\n",
        "  j = round(sqrt(N/3)+0.5)\n",
        "  for x in range(1, i): #less than 100\n",
        "    for y in range(1, j): #(3*y^2) less than 100 \n",
        "      z = x**2 + c*(y**2)\n",
        "      if z in p:\n",
        "        a.append(z)\n",
        "  a.sort()\n",
        "  return a\n",
        "\n",
        "def check_congruence(z):\n",
        "  k = z[0]\n",
        "  l = len(z)-1 #4\n",
        "  b = []\n",
        "  for i in range(2, k): #not mod 2 since every prime is 2 % 1\n",
        "    A = z[0] % i \n",
        "    a = 0 #goin to add to this number; if it gets to be == to len(b)-1 then all work for the mod set up\n",
        "    for j in range(1, len(z)): \n",
        "      if A == z[j] % i: \n",
        "        a += 1\n",
        "      else:\n",
        "        a = 0\n",
        "    if a == l: \n",
        "      b.append(i)\n",
        "  l_2= len(b)\n",
        "  if l_2 ==0:\n",
        "    return []\n",
        "  else: \n",
        "    B = b[-1] \n",
        "    return [A, B]\n",
        "\n",
        "def confirm_congruence(z, N, A, B):\n",
        "  p = where(isprime_list(N))\n",
        "  y = []\n",
        "  for i in p:\n",
        "    if i % B == A:\n",
        "      y.append(i)\n",
        "  if y == z:\n",
        "    return True\n"
      ],
      "metadata": {
        "id": "ABp2uGnnHKLf"
      },
      "execution_count": 41,
      "outputs": []
    },
    {
      "cell_type": "markdown",
      "source": [
        "### Checking iff"
      ],
      "metadata": {
        "id": "03_mHwrPl2vb"
      }
    },
    {
      "cell_type": "code",
      "source": [
        "n = 50000 #check for primes under 100\n",
        "a = prime_form(n, 3)\n",
        "b = check_congruence(a)\n",
        "print(b)\n",
        "confirm_congruence(a, n, b[0], b[1])\n",
        "\n",
        "##This proves that for primes up to 50,000, it holds true that primes can be expressed in the form x^2+3*y^2 IFF p % 6 == 1 (or p % 3 == 1)"
      ],
      "metadata": {
        "colab": {
          "base_uri": "https://localhost:8080/"
        },
        "id": "jSieA9cEgAbK",
        "outputId": "167779ad-0abd-4110-a017-0b399c955e1f"
      },
      "execution_count": 47,
      "outputs": [
        {
          "output_type": "stream",
          "name": "stdout",
          "text": [
            "[1, 6]\n"
          ]
        },
        {
          "output_type": "execute_result",
          "data": {
            "text/plain": [
              "True"
            ]
          },
          "metadata": {},
          "execution_count": 47
        }
      ]
    },
    {
      "cell_type": "markdown",
      "source": [
        "### Trials having c range from 4 to 9 (x^2 + c*y^2)"
      ],
      "metadata": {
        "id": "at47s8DTliPu"
      }
    },
    {
      "cell_type": "code",
      "source": [
        "n = 5000 #check for primes under 100\n",
        "a = prime_form(n, 4)\n",
        "b = check_congruence(a)\n",
        "print(b)\n",
        "confirm_congruence(a, n, b[0], b[1])\n",
        "\n",
        "##This proves that for primes up to 5000, it holds true that primes can be expressed in the form x^2+4*y^2 IFF p % 4 == 1"
      ],
      "metadata": {
        "colab": {
          "base_uri": "https://localhost:8080/"
        },
        "id": "AcWqw97RkwZa",
        "outputId": "fde42afb-64a0-4e35-c86a-7d7c1da2df00"
      },
      "execution_count": 48,
      "outputs": [
        {
          "output_type": "stream",
          "name": "stdout",
          "text": [
            "[1, 4]\n"
          ]
        },
        {
          "output_type": "execute_result",
          "data": {
            "text/plain": [
              "True"
            ]
          },
          "metadata": {},
          "execution_count": 48
        }
      ]
    },
    {
      "cell_type": "code",
      "source": [
        "n = 5000 #check for primes under 100\n",
        "a = prime_form(n, 5)\n",
        "b = check_congruence(a)\n",
        "print(b)\n",
        "confirm_congruence(a, n, b[0], b[1])\n",
        "\n",
        "#x^2 + 5*y^2 is NOT IFF p % 4 == 1"
      ],
      "metadata": {
        "colab": {
          "base_uri": "https://localhost:8080/"
        },
        "id": "qI4tLcbWlCzs",
        "outputId": "42037b33-42e5-4c6d-b0b3-ab96fe71e9d3"
      },
      "execution_count": 50,
      "outputs": [
        {
          "output_type": "stream",
          "name": "stdout",
          "text": [
            "[1, 4]\n"
          ]
        }
      ]
    },
    {
      "cell_type": "code",
      "source": [
        "n = 5000 #check for primes under 100\n",
        "a = prime_form(n, 6)\n",
        "b = check_congruence(a)\n",
        "print(b)\n",
        "confirm_congruence(a, n, b[0], b[1])\n",
        "\n",
        "#x^2 + 6*y^2 is NOT IFF p % 6 == 1"
      ],
      "metadata": {
        "colab": {
          "base_uri": "https://localhost:8080/"
        },
        "id": "JGrBdvHQlORW",
        "outputId": "05b7b5ca-62f5-40f3-df52-25d047a2acb1"
      },
      "execution_count": 51,
      "outputs": [
        {
          "output_type": "stream",
          "name": "stdout",
          "text": [
            "[1, 6]\n"
          ]
        }
      ]
    },
    {
      "cell_type": "code",
      "source": [
        "n = 5000 #check for primes under 100\n",
        "a = prime_form(n, 7)\n",
        "b = check_congruence(a)\n",
        "print(b)\n",
        "confirm_congruence(a, n, b[0], b[1])\n",
        "\n",
        "#x^2 + 7*y^2 is NOT IFF p % 2 == 1"
      ],
      "metadata": {
        "colab": {
          "base_uri": "https://localhost:8080/"
        },
        "id": "1rm6wpY-lSM4",
        "outputId": "5c9abd50-99d7-4ed9-9390-2f1a6bc0c9f0"
      },
      "execution_count": 53,
      "outputs": [
        {
          "output_type": "stream",
          "name": "stdout",
          "text": [
            "[1, 2]\n"
          ]
        }
      ]
    },
    {
      "cell_type": "code",
      "source": [
        "n = 5000 #check for primes under 100\n",
        "a = prime_form(n, 8)\n",
        "b = check_congruence(a)\n",
        "print(b)\n",
        "confirm_congruence(a, n, b[0], b[1])\n",
        "\n",
        "#x^2 + 8*y^2 is NOT IFF p % 8 == 1"
      ],
      "metadata": {
        "colab": {
          "base_uri": "https://localhost:8080/"
        },
        "id": "3tC0uJnNlWj5",
        "outputId": "841a8345-7cbd-486f-db9b-e42319124976"
      },
      "execution_count": 55,
      "outputs": [
        {
          "output_type": "stream",
          "name": "stdout",
          "text": [
            "[1, 8]\n"
          ]
        },
        {
          "output_type": "execute_result",
          "data": {
            "text/plain": [
              "True"
            ]
          },
          "metadata": {},
          "execution_count": 55
        }
      ]
    },
    {
      "cell_type": "code",
      "source": [
        "n = 5000 #check for primes under 100\n",
        "a = prime_form(n, 9)\n",
        "b = check_congruence(a)\n",
        "print(b)\n",
        "confirm_congruence(a, n, b[0], b[1])\n",
        "\n",
        "#x^2 + 9*y^2 is NOT IFF p % 12 == 1"
      ],
      "metadata": {
        "colab": {
          "base_uri": "https://localhost:8080/"
        },
        "id": "PVeDz7J9lbj5",
        "outputId": "59198677-3806-4d03-c1e0-2ec90dff4068"
      },
      "execution_count": 56,
      "outputs": [
        {
          "output_type": "stream",
          "name": "stdout",
          "text": [
            "[1, 12]\n"
          ]
        },
        {
          "output_type": "execute_result",
          "data": {
            "text/plain": [
              "True"
            ]
          },
          "metadata": {},
          "execution_count": 56
        }
      ]
    },
    {
      "cell_type": "markdown",
      "metadata": {
        "id": "Zg0Nc1e6aDi7"
      },
      "source": [
        "# Challenge 4\n",
        "\n",
        "Pascal's triangle has $1$ in the first row, then $1, 1$ in the second rod, then $1,2,1$ in the third row, etc.  One can place these numbers in a triangle, with \"rows\" as diagonals, as drawn below.\n",
        "\n",
        "1 1 1 1 1 1\n",
        "\n",
        "1 2 3 4 5\n",
        "\n",
        "1 3 6 10\n",
        "\n",
        "1 4 10\n",
        "\n",
        "1 5\n",
        "\n",
        "1\n",
        "\n",
        "Et cetera.\n",
        "\n",
        "Turn these numbers into black and white dots, depending on whether they are even (black) or odd (white).  This produces an image like the following:\n",
        "\n",
        "X X X X X X\n",
        "\n",
        "X O X O X\n",
        "\n",
        "X X O O\n",
        "\n",
        "X O O\n",
        "\n",
        "X X\n",
        "\n",
        "X\n",
        "\n",
        "Now perform this in PIL, to create an image that fills the top-left triangle in an image of at least 200 x 200 pixels.  You should *not* be computing giant numbers like 200 factorial!  Each row of Pascal's triangle can be computed from the previous by addition... and you can perform this \"mod 2\" all the way through.\n",
        "\n",
        "Extra fun:  instead of black/white dots for even/odd, try colors based on remainders after dividing by three, by four, etc.\n"
      ]
    },
    {
      "cell_type": "markdown",
      "source": [
        "## Solution"
      ],
      "metadata": {
        "id": "kSTNrhKgmmAK"
      }
    },
    {
      "cell_type": "code",
      "source": [
        "import numpy as np\n",
        "\n",
        "#True represents odd since False + False = False thus False must be even\n",
        "p = np.zeros((200,200), dtype=np.uint8)\n",
        "\n",
        "\n",
        "p[0, :] = 1\n",
        "p[:, 0] = 1\n",
        "for n in range(1, 199): #so that it does not compute p[200, 1]\n",
        "  for m in range(1, 199):\n",
        "    if n+m <= 200:\n",
        "      p[n, m] = ((p[n, m-1] + p[n-1, m]) % 2)\n",
        "\n",
        "#np.set_printoptions(formatter={'float_kind':'{:f}'.format})\n",
        "p\n",
        "\n",
        "from PIL import Image \n",
        "\n",
        "solid = np.zeros((200, 200,3), dtype=np.uint8)\n",
        "for x in range(200):\n",
        "  for y in range(200):\n",
        "    if p[x, y] == 1:    \n",
        "        solid[y, x] = [255,255, 255] # Red = 255, Green = 255, Blue = 255 == black\n",
        "    else:\n",
        "        solid[y, x] = [0, 0, 0]\n",
        "img = Image.fromarray(solid) # Create an image from the array.\n",
        "display(img)\n"
      ],
      "metadata": {
        "colab": {
          "base_uri": "https://localhost:8080/",
          "height": 217
        },
        "id": "E-n-yiT98gUD",
        "outputId": "93c9c001-e146-444e-abea-31c2cc7fa850"
      },
      "execution_count": null,
      "outputs": [
        {
          "output_type": "display_data",
          "data": {
            "text/plain": [
              "<PIL.Image.Image image mode=RGB size=200x200 at 0x7FECA3686450>"
            ],
            "image/png": "[encoded data removed]"
          },
          "metadata": {}
        }
      ]
    },
    {
      "cell_type": "code",
      "source": [
        "import numpy as np\n",
        "\n",
        "#no longer bool (1 and 0s) so it is a little slower\n",
        "#can use this for later \"fun\"\n",
        "\n",
        "p = np.zeros((200,200), dtype=np.uint8)\n",
        "\n",
        "p[0, :] = 1\n",
        "p[:, 0] = 1\n",
        "for n in range(1, 199): #so that it does not compute p[200, 1]\n",
        "  for m in range(1, 199):\n",
        "    if n+m <= 200:\n",
        "      p[n, m] = p[n, m-1] + p[n-1, m]\n",
        "\n",
        "#np.set_printoptions(formatter={'float_kind':'{:f}'.format})\n",
        "p\n",
        "\n",
        "from PIL import Image \n",
        "\n",
        "solid2 = np.zeros((200, 200,3), dtype=np.uint8)\n",
        "for x in range(200):\n",
        "  for y in range(200):\n",
        "    if p[x, y] % 4 == 1:    \n",
        "        solid2[y, x] = [250,0, 255] # Red = 255, Green = 255, Blue = 255 == black\n",
        "    elif p[x, y] % 4 == 3:\n",
        "        solid2[y, x] = [0, 200, 180]\n",
        "    elif p[x, y] % 3 == 2:\n",
        "        solid2[y, x] = [230, 180, 0]\n",
        "    elif p[x, y] % 2 == 0:\n",
        "        solid2[y, x] = [255, 255, 255]\n",
        "    elif p[x, y] % 2 == 1:\n",
        "        solid2[y, x] = [0, 0, 0]\n",
        "img = Image.fromarray(solid2) # Create an image from the array.\n",
        "display(img)\n",
        "\n",
        "#symmetric\n",
        "for n in range(1, 199): #so that it does not compute p[200, 1]\n",
        "  for m in range(1, 199):\n",
        "    if (n+m) <= 200:\n",
        "      p[-n, -m] = p[-n, -m+1] + p[-n+1, -m]\n",
        "\n",
        "\n",
        "solid3= np.zeros((200, 200,3), dtype=np.uint8)\n",
        "for x in range(200):\n",
        "  for y in range(200):\n",
        "    if p[x, y] % 4 == 1:    \n",
        "        solid3[y, x] = [250,0, 255] # Red = 255, Green = 255, Blue = 255 == black\n",
        "    elif p[x, y] % 4 == 3:\n",
        "        solid3[y, x] = [0, 200, 180]\n",
        "    elif p[x, y] % 3 == 2:\n",
        "        solid3[y, x] = [230, 180, 0]\n",
        "    elif p[x, y] % 2 == 0:\n",
        "        solid3[y, x] = [255, 255, 255]\n",
        "    elif p[x, y] % 2 == 1:\n",
        "        solid3[y, x] = [0, 0, 0]\n",
        "img = Image.fromarray(solid3) # Create an image from the array.\n",
        "display(img)"
      ],
      "metadata": {
        "colab": {
          "base_uri": "https://localhost:8080/",
          "height": 469
        },
        "id": "jV1M9zdZfFNI",
        "outputId": "70983831-9747-4e28-a65b-3179cac5d0d9"
      },
      "execution_count": null,
      "outputs": [
        {
          "output_type": "stream",
          "name": "stderr",
          "text": [
            "/usr/local/lib/python3.7/dist-packages/ipykernel_launcher.py:13: RuntimeWarning: overflow encountered in ubyte_scalars\n",
            "  del sys.path[0]\n"
          ]
        },
        {
          "output_type": "display_data",
          "data": {
            "text/plain": [
              "<PIL.Image.Image image mode=RGB size=200x200 at 0x7FECA3515810>"
            ],
            "image/png": "[encoded data removed]"
          },
          "metadata": {}
        },
        {
          "output_type": "stream",
          "name": "stderr",
          "text": [
            "/usr/local/lib/python3.7/dist-packages/ipykernel_launcher.py:40: RuntimeWarning: overflow encountered in ubyte_scalars\n"
          ]
        },
        {
          "output_type": "display_data",
          "data": {
            "text/plain": [
              "<PIL.Image.Image image mode=RGB size=200x200 at 0x7FECA35158D0>"
            ],
            "image/png": "[encoded data removed]"
          },
          "metadata": {}
        }
      ]
    }
  ]
}